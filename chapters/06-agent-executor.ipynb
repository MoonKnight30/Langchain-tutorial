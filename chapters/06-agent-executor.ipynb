{
  "cells": [
    {
      "cell_type": "markdown",
      "metadata": {
        "id": "nzN7iY0FLRxn"
      },
      "source": [
        "[![Open In Colab](https://colab.research.google.com/assets/colab-badge.svg)](https://colab.research.google.com/github/aurelio-labs/langchain-course/blob/main/chapters/06-agent-executor.ipynb)"
      ]
    },
    {
      "cell_type": "markdown",
      "metadata": {
        "id": "l-WuDI4tKhRz"
      },
      "source": [
        "#### LangChain Essentials Course"
      ]
    },
    {
      "cell_type": "markdown",
      "metadata": {
        "id": "M_bfadwMKhR0"
      },
      "source": [
        "# LangChain Agent Executor"
      ]
    },
    {
      "cell_type": "markdown",
      "metadata": {
        "id": "lMGT85HYKhR0"
      },
      "source": [
        "In this chapter, we will continue from the [introduction to agents](https://aurelio.ai/learn/langchain-agents-intro) and dive deeper into agents. Learning how to build our custom agent execution loop for v0.3 of LangChain."
      ]
    },
    {
      "cell_type": "code",
      "execution_count": 3,
      "metadata": {
        "colab": {
          "base_uri": "https://localhost:8080/"
        },
        "id": "XWpBTKoHKj9o",
        "outputId": "6f94bdd8-fa45-4d02-a6a6-02134dcf72bf"
      },
      "outputs": [
        {
          "output_type": "stream",
          "name": "stdout",
          "text": [
            "\u001b[2K   \u001b[90m━━━━━━━━━━━━━━━━━━━━━━━━━━━━━━━━━━━━━━━━\u001b[0m \u001b[32m42.0/42.0 kB\u001b[0m \u001b[31m1.1 MB/s\u001b[0m eta \u001b[36m0:00:00\u001b[0m\n",
            "\u001b[2K   \u001b[90m━━━━━━━━━━━━━━━━━━━━━━━━━━━━━━━━━━━━━━━━\u001b[0m \u001b[32m2.5/2.5 MB\u001b[0m \u001b[31m6.4 MB/s\u001b[0m eta \u001b[36m0:00:00\u001b[0m\n",
            "\u001b[2K   \u001b[90m━━━━━━━━━━━━━━━━━━━━━━━━━━━━━━━━━━━━━━━━\u001b[0m \u001b[32m367.8/367.8 kB\u001b[0m \u001b[31m25.6 MB/s\u001b[0m eta \u001b[36m0:00:00\u001b[0m\n",
            "\u001b[2K   \u001b[90m━━━━━━━━━━━━━━━━━━━━━━━━━━━━━━━━━━━━━━━━\u001b[0m \u001b[32m45.2/45.2 kB\u001b[0m \u001b[31m3.5 MB/s\u001b[0m eta \u001b[36m0:00:00\u001b[0m\n",
            "\u001b[2K   \u001b[90m━━━━━━━━━━━━━━━━━━━━━━━━━━━━━━━━━━━━━━━━\u001b[0m \u001b[32m50.9/50.9 kB\u001b[0m \u001b[31m4.1 MB/s\u001b[0m eta \u001b[36m0:00:00\u001b[0m\n",
            "\u001b[?25h"
          ]
        }
      ],
      "source": [
        "!pip install -qU \\\n",
        "  langchain-core \\\n",
        "  langchain-google-genai \\\n",
        "  langchain-community \\\n",
        "  langsmith \\\n",
        "  google-generativeai"
      ]
    },
    {
      "cell_type": "markdown",
      "metadata": {
        "id": "cJ6nGkFXKhR0"
      },
      "source": [
        "---\n",
        "\n",
        "> ⚠️ We will be using OpenAI for this example allowing us to run everything via API. If you would like to use Ollama instead, check out the [Ollama LangChain Course](https://github.com/aurelio-labs/langchain-course/tree/main/notebooks/ollama).\n",
        "\n",
        "---"
      ]
    },
    {
      "cell_type": "markdown",
      "metadata": {
        "id": "gPxtmAUnKhR0"
      },
      "source": [
        "---\n",
        "\n",
        "> ⚠️ If using LangSmith, add your API key below:"
      ]
    },
    {
      "cell_type": "code",
      "execution_count": 4,
      "metadata": {
        "colab": {
          "base_uri": "https://localhost:8080/"
        },
        "id": "vu3UjJZcKhR1",
        "outputId": "c23e2f60-6b9f-4225-972c-fe467fff3e62"
      },
      "outputs": [
        {
          "name": "stdout",
          "output_type": "stream",
          "text": [
            "Enter LangSmith API Key: ··········\n",
            "Enter Google API Key: ··········\n"
          ]
        }
      ],
      "source": [
        "\n",
        "import os\n",
        "from getpass import getpass\n",
        "\n",
        "# LangSmith Setup (optional, for observability)\n",
        "os.environ[\"LANGCHAIN_API_KEY\"] = os.getenv(\"LANGCHAIN_API_KEY\") or \\\n",
        "    getpass(\"Enter LangSmith API Key: \")\n",
        "os.environ[\"LANGCHAIN_TRACING_V2\"] = \"true\"\n",
        "os.environ[\"LANGCHAIN_ENDPOINT\"] = \"https://api.smith.langchain.com\"\n",
        "os.environ[\"LANGCHAIN_PROJECT\"] = \"aurelioai-langchain-course-prompts-gemini\"\n",
        "\n",
        "# Google Gemini API Key\n",
        "os.environ[\"GOOGLE_API_KEY\"] = os.getenv(\"GOOGLE_API_KEY\") or \\\n",
        "    getpass(\"Enter Google API Key: \")"
      ]
    },
    {
      "cell_type": "markdown",
      "metadata": {
        "id": "MIWrsEZLKhR1"
      },
      "source": [
        "---"
      ]
    },
    {
      "cell_type": "markdown",
      "metadata": {
        "id": "4nN4iokHKhR1"
      },
      "source": [
        "## What is the Agent Executor?"
      ]
    },
    {
      "cell_type": "markdown",
      "metadata": {
        "id": "IgYiaDvQKhR1"
      },
      "source": [
        "When we talk about agents, a significant part of an \"agent\" is simple code logic,\n",
        "iteratively rerunning LLM calls and processing their output. The exact logic varies\n",
        "significantly, but one well-known example is the **ReAct** agent.\n",
        "\n",
        "![ReAct process](https://www.aurelio.ai/_next/image?url=%2Fimages%2Fposts%2Fai-agents%2Fai-agents-00.png&w=640&q=75)\n",
        "\n",
        "**Re**ason + **Act**ion (ReAct) agents use iterative _reasoning_ and _action_ steps to\n",
        "incorporate chain-of-thought and tool-use into their execution. During the _reasoning_\n",
        "step, the LLM generates the steps to take to answer the query. Next, the LLM generates\n",
        "the _action_ input, which our code logic parses into a tool call.\n",
        "\n",
        "![Agentic graph of ReAct](https://www.aurelio.ai/_next/image?url=%2Fimages%2Fposts%2Fai-agents%2Fai-agents-01.png&w=640&q=75)\n",
        "\n",
        "Following our action step, we get an observation from the tool call. Then, we feed the\n",
        "observation back into the agent executor logic for a final answer or further reasoning\n",
        "and action steps.\n",
        "\n",
        "The agent and agent executor we will be building will follow this pattern."
      ]
    },
    {
      "cell_type": "markdown",
      "metadata": {
        "id": "1y9epAuyKhR1"
      },
      "source": [
        "## Tools"
      ]
    },
    {
      "cell_type": "markdown",
      "metadata": {
        "id": "pNwxnS9qKhR1"
      },
      "source": [
        "As with the previous chapter, we will define a few tools to use within our agent."
      ]
    },
    {
      "cell_type": "code",
      "execution_count": 5,
      "metadata": {
        "id": "t0xbHzHqKhR2"
      },
      "outputs": [],
      "source": [
        "from langchain_core.tools import tool\n",
        "\n",
        "@tool\n",
        "def add(x: float, y: float) -> float:\n",
        "    \"\"\"Add 'x' and 'y'.\"\"\"\n",
        "    return x + y\n",
        "\n",
        "# Define the multiply tool\n",
        "@tool\n",
        "def multiply(x: float, y: float) -> float:\n",
        "    \"\"\"Multiply 'x' and 'y'.\"\"\"\n",
        "    return x * y\n",
        "\n",
        "# Define the exponentiate tool\n",
        "@tool\n",
        "def exponentiate(x: float, y: float) -> float:\n",
        "    \"\"\"Raise 'x' to the power of 'y'.\"\"\"\n",
        "    return x ** y\n",
        "\n",
        "@tool\n",
        "def subtract(x: float, y: float) -> float:\n",
        "    \"\"\"Subtract 'x' from 'y'.\"\"\"\n",
        "    return y - x"
      ]
    },
    {
      "cell_type": "markdown",
      "metadata": {
        "id": "dhlrt2JfKhR2"
      },
      "source": [
        "With the `@tool` decorator our function is turned into a `StructuredTool` object, which we can see below:"
      ]
    },
    {
      "cell_type": "code",
      "execution_count": 6,
      "metadata": {
        "colab": {
          "base_uri": "https://localhost:8080/"
        },
        "id": "iLGsdWrCKhR2",
        "outputId": "7ea7ee6c-ff49-4024-b0d6-50160e266323"
      },
      "outputs": [
        {
          "output_type": "execute_result",
          "data": {
            "text/plain": [
              "StructuredTool(name='add', description=\"Add 'x' and 'y'.\", args_schema=<class 'langchain_core.utils.pydantic.add'>, func=<function add at 0x7834f4266480>)"
            ]
          },
          "metadata": {},
          "execution_count": 6
        }
      ],
      "source": [
        "add"
      ]
    },
    {
      "cell_type": "markdown",
      "metadata": {
        "id": "-JRtoCoQKhR2"
      },
      "source": [
        "We can see the tool name, description, and arg schema:"
      ]
    },
    {
      "cell_type": "code",
      "execution_count": 7,
      "metadata": {
        "colab": {
          "base_uri": "https://localhost:8080/"
        },
        "id": "tjbUg5JGKhR2",
        "outputId": "7490b5d2-428e-425f-9440-1fe0c0f13201"
      },
      "outputs": [
        {
          "output_type": "stream",
          "name": "stdout",
          "text": [
            "add.name='add'\n",
            "add.description=\"Add 'x' and 'y'.\"\n"
          ]
        }
      ],
      "source": [
        "print(f\"{add.name=}\\n{add.description=}\")"
      ]
    },
    {
      "cell_type": "code",
      "execution_count": 8,
      "metadata": {
        "colab": {
          "base_uri": "https://localhost:8080/"
        },
        "id": "akWPmNfhKhR2",
        "outputId": "583b3bdf-d8b5-476d-c567-36c186e45b28"
      },
      "outputs": [
        {
          "output_type": "execute_result",
          "data": {
            "text/plain": [
              "{'description': \"Add 'x' and 'y'.\",\n",
              " 'properties': {'x': {'title': 'X', 'type': 'number'},\n",
              "  'y': {'title': 'Y', 'type': 'number'}},\n",
              " 'required': ['x', 'y'],\n",
              " 'title': 'add',\n",
              " 'type': 'object'}"
            ]
          },
          "metadata": {},
          "execution_count": 8
        }
      ],
      "source": [
        "add.args_schema.model_json_schema()"
      ]
    },
    {
      "cell_type": "markdown",
      "metadata": {
        "id": "INJu45q1KhR2"
      },
      "source": [
        "The `args_schema` is a pydantic model that is transformed into the JSON schema above and passed into our LLM, it is this that defines _how_ the tool is used for the LLM. We can see this with other tools:"
      ]
    },
    {
      "cell_type": "code",
      "execution_count": 9,
      "metadata": {
        "colab": {
          "base_uri": "https://localhost:8080/"
        },
        "id": "OYdKvlunKhR2",
        "outputId": "648b4fee-ea05-4e90-e400-4f3327437c99"
      },
      "outputs": [
        {
          "output_type": "execute_result",
          "data": {
            "text/plain": [
              "{'description': \"Raise 'x' to the power of 'y'.\",\n",
              " 'properties': {'x': {'title': 'X', 'type': 'number'},\n",
              "  'y': {'title': 'Y', 'type': 'number'}},\n",
              " 'required': ['x', 'y'],\n",
              " 'title': 'exponentiate',\n",
              " 'type': 'object'}"
            ]
          },
          "metadata": {},
          "execution_count": 9
        }
      ],
      "source": [
        "exponentiate.args_schema.model_json_schema()"
      ]
    },
    {
      "cell_type": "markdown",
      "metadata": {
        "id": "WlqrsBLSKhR2"
      },
      "source": [
        "When invoking the tool, a JSON string output by the LLM will be parsed into JSON and then consumed as kwargs, similar to the below:"
      ]
    },
    {
      "cell_type": "code",
      "execution_count": 10,
      "metadata": {
        "colab": {
          "base_uri": "https://localhost:8080/"
        },
        "id": "7Qs-a16-KhR2",
        "outputId": "0ff863e5-a9fa-4b0b-f5c8-b97f4417c367"
      },
      "outputs": [
        {
          "output_type": "execute_result",
          "data": {
            "text/plain": [
              "{'x': 5, 'y': 2}"
            ]
          },
          "metadata": {},
          "execution_count": 10
        }
      ],
      "source": [
        "import json\n",
        "\n",
        "llm_output_string = \"{\\\"x\\\": 5, \\\"y\\\": 2}\"  # this is the output from the LLM\n",
        "llm_output_dict = json.loads(llm_output_string)  # load as dictionary\n",
        "llm_output_dict"
      ]
    },
    {
      "cell_type": "markdown",
      "metadata": {
        "id": "VgwHOKetKhR2"
      },
      "source": [
        "This is then passed into the tool function as `kwargs` (keyword arguments) as indicated by the `**` operator - the `**` operator is used to unpack the dictionary into keyword arguments."
      ]
    },
    {
      "cell_type": "code",
      "execution_count": 11,
      "metadata": {
        "colab": {
          "base_uri": "https://localhost:8080/"
        },
        "id": "XIEsWEANKhR2",
        "outputId": "011d4f77-4cdc-4a53-9211-7a281cea89c1"
      },
      "outputs": [
        {
          "output_type": "execute_result",
          "data": {
            "text/plain": [
              "25"
            ]
          },
          "metadata": {},
          "execution_count": 11
        }
      ],
      "source": [
        "exponentiate.func(**llm_output_dict)"
      ]
    },
    {
      "cell_type": "markdown",
      "metadata": {
        "id": "leNf7-zuKhR3"
      },
      "source": [
        "This covers the basics of tools and how they work, let's move on to creating the agent itself."
      ]
    },
    {
      "cell_type": "markdown",
      "metadata": {
        "id": "zLzr9H4HKhR3"
      },
      "source": [
        "## Creating an Agent"
      ]
    },
    {
      "cell_type": "markdown",
      "metadata": {
        "id": "wshUd8OLKhR3"
      },
      "source": [
        "We will use **L**ang**C**hain **E**pression **L**anguage (LCEL) to construct the agent. We will cover LCEL more in the next chapter, but for now - all we need to know is that our agent will be constructed using syntax and components like so:\n",
        "\n",
        "\n",
        "```\n",
        "agent = (\n",
        "    <input parameters, including chat history and user query>\n",
        "    | <prompt>\n",
        "    | <LLM with tools>\n",
        ")\n",
        "```"
      ]
    },
    {
      "cell_type": "markdown",
      "metadata": {
        "id": "XcXrDNP5KhR3"
      },
      "source": [
        "We need this agent to remember previous interactions within the conversation. To do that, we will use the `ChatPromptTemplate` with a system message, a placeholder for our chat history, a placeholder for the user query, and finally a placeholder for the agent scratchpad.\n",
        "\n",
        "The agent scratchpad is where the agent writes its notes as it works through multiple internal thought and tool-use steps to produce a final output for the user. This scratchpad is a list of messages with alternating roles of `ai` (for the tool call) and `tool` (for the tool execution output). Both message types require a `tool_call_id` field which is used to link the respective AI and tool messages - this can be required when we many tool calls happening in parallel."
      ]
    },
    {
      "cell_type": "code",
      "execution_count": 12,
      "metadata": {
        "id": "deEyRB1qKhR3"
      },
      "outputs": [],
      "source": [
        "from langchain_core.prompts import ChatPromptTemplate, MessagesPlaceholder\n",
        "\n",
        "prompt = ChatPromptTemplate.from_messages([\n",
        "    (\"system\", (\n",
        "        \"You're a helpful assistant. When answering a user's question \"\n",
        "        \"you should first use one of the tools provided. After using a \"\n",
        "        \"tool the tool output will be provided in the \"\n",
        "        \"'scratchpad' below. If you have an answer in the \"\n",
        "        \"scratchpad you should not use any more tools and \"\n",
        "        \"instead answer directly to the user.\"\n",
        "    )),\n",
        "    MessagesPlaceholder(variable_name=\"chat_history\"),\n",
        "    (\"human\", \"{input}\"),\n",
        "    MessagesPlaceholder(variable_name=\"agent_scratchpad\"),\n",
        "])"
      ]
    },
    {
      "cell_type": "markdown",
      "metadata": {
        "id": "4qLBd6IKKhR3"
      },
      "source": [
        "Next, we must define our LLM, we will use the `gpt-4o-mini` model with a `temperature` of `0.0`."
      ]
    },
    {
      "cell_type": "code",
      "execution_count": 13,
      "metadata": {
        "id": "taeBT2ppKhR3"
      },
      "outputs": [],
      "source": [
        "from langchain_google_genai import ChatGoogleGenerativeAI\n",
        "\n",
        "llm = ChatGoogleGenerativeAI(temperature=0.0, model=\"gemini-2.5-flash\")"
      ]
    },
    {
      "cell_type": "markdown",
      "metadata": {
        "id": "9kIxpYSWKhR3"
      },
      "source": [
        "To add tools to our LLM, we will use the `bind_tools` method within the LCEL constructor, which will take our tools and add them to the LLM. We'll also include the `tool_choice=\"any\"` argument to `bind_tools`, which tells the LLM that it _MUST_ use a tool, ie it cannot provide a final answer directly (in therefore not using a tool):"
      ]
    },
    {
      "cell_type": "code",
      "execution_count": 14,
      "metadata": {
        "id": "yFWmJdoVKhR3"
      },
      "outputs": [],
      "source": [
        "from langchain_core.runnables.base import RunnableSerializable\n",
        "\n",
        "tools = [add, subtract, multiply, exponentiate]\n",
        "\n",
        "# define the agent runnable\n",
        "agent: RunnableSerializable = (\n",
        "    {\n",
        "        \"input\": lambda x: x[\"input\"],\n",
        "        \"chat_history\": lambda x: x[\"chat_history\"],\n",
        "        \"agent_scratchpad\": lambda x: x.get(\"agent_scratchpad\", [])\n",
        "    }\n",
        "    | prompt\n",
        "    | llm.bind_tools(tools, tool_choice=\"any\")\n",
        ")"
      ]
    },
    {
      "cell_type": "markdown",
      "metadata": {
        "id": "9xvYJGV2KhR3"
      },
      "source": [
        "We invoke the agent with the `invoke` method, passing in the input and chat history."
      ]
    },
    {
      "cell_type": "code",
      "execution_count": 15,
      "metadata": {
        "colab": {
          "base_uri": "https://localhost:8080/"
        },
        "id": "b0Wy32aKKhR4",
        "outputId": "f632f6a5-ef11-4405-b1d9-4353be4bba55"
      },
      "outputs": [
        {
          "output_type": "execute_result",
          "data": {
            "text/plain": [
              "AIMessage(content='', additional_kwargs={'function_call': {'name': 'add', 'arguments': '{\"y\": 10.0, \"x\": 10.0}'}}, response_metadata={'prompt_feedback': {'block_reason': 0, 'safety_ratings': []}, 'finish_reason': 'STOP', 'safety_ratings': []}, id='run--aa369eb7-dd00-4436-9cc9-f22bf3c97afc-0', tool_calls=[{'name': 'add', 'args': {'y': 10.0, 'x': 10.0}, 'id': '48ac4cc8-ee50-494c-ac26-baf1004b61f5', 'type': 'tool_call'}], usage_metadata={'input_tokens': 276, 'output_tokens': 20, 'total_tokens': 355, 'input_token_details': {'cache_read': 0}})"
            ]
          },
          "metadata": {},
          "execution_count": 15
        }
      ],
      "source": [
        "tool_call = agent.invoke({\"input\": \"What is 10 + 10\", \"chat_history\": []})\n",
        "tool_call"
      ]
    },
    {
      "cell_type": "markdown",
      "metadata": {
        "id": "fKLcAncRKhR4"
      },
      "source": [
        "Because we set `tool_choice=\"any\"` to force the tool output, the usual `content` field will be empty as that field is used for natural language output, ie the _final answer_ of the LLM. To find our tool output, we need to look at the `tool_calls` field:"
      ]
    },
    {
      "cell_type": "code",
      "execution_count": 16,
      "metadata": {
        "colab": {
          "base_uri": "https://localhost:8080/"
        },
        "id": "vnwf4bZyKhR4",
        "outputId": "9aa9361c-ebe9-4c6b-844a-dd942f2edcb1"
      },
      "outputs": [
        {
          "output_type": "execute_result",
          "data": {
            "text/plain": [
              "[{'name': 'add',\n",
              "  'args': {'y': 10.0, 'x': 10.0},\n",
              "  'id': '48ac4cc8-ee50-494c-ac26-baf1004b61f5',\n",
              "  'type': 'tool_call'}]"
            ]
          },
          "metadata": {},
          "execution_count": 16
        }
      ],
      "source": [
        "tool_call.tool_calls"
      ]
    },
    {
      "cell_type": "markdown",
      "metadata": {
        "id": "dK3aEExCKhR4"
      },
      "source": [
        "From here, we have the tool `name` that our LLM wants to use and the `args` that it\n",
        "wants to pass to that tool. We can see that the tool `add` is being used with the\n",
        "arguments `x=10` and `y=10`. The `agent.invoke` method has _not_ executed the tool\n",
        "function; we need to write that part of the agent code ourselves.\n",
        "\n",
        "Executing the tool code requires two steps:\n",
        "\n",
        "1. Map the tool `name` to the tool function.\n",
        "\n",
        "2. Execute the tool function with the generated `args`."
      ]
    },
    {
      "cell_type": "code",
      "execution_count": 17,
      "metadata": {
        "id": "IJ9MNrsmKhR4"
      },
      "outputs": [],
      "source": [
        "# create tool name to function mapping\n",
        "name2tool = {tool.name: tool.func for tool in tools}"
      ]
    },
    {
      "cell_type": "markdown",
      "metadata": {
        "id": "2olPmt13KhR4"
      },
      "source": [
        "Now execute to get our answer:"
      ]
    },
    {
      "cell_type": "code",
      "execution_count": 18,
      "metadata": {
        "colab": {
          "base_uri": "https://localhost:8080/"
        },
        "id": "clu5QfGzKhR4",
        "outputId": "ca5134ea-027d-46e1-e844-3a5ffc3bf14e"
      },
      "outputs": [
        {
          "output_type": "execute_result",
          "data": {
            "text/plain": [
              "20.0"
            ]
          },
          "metadata": {},
          "execution_count": 18
        }
      ],
      "source": [
        "tool_exec_content = name2tool[tool_call.tool_calls[0][\"name\"]](\n",
        "    **tool_call.tool_calls[0][\"args\"]\n",
        ")\n",
        "tool_exec_content"
      ]
    },
    {
      "cell_type": "markdown",
      "metadata": {
        "id": "LKs1H38BKhR4"
      },
      "source": [
        "That is our answer and tool execution logic. We feed this back into our LLM via the\n",
        "`agent_scratchpad` placeholder."
      ]
    },
    {
      "cell_type": "code",
      "execution_count": 19,
      "metadata": {
        "colab": {
          "base_uri": "https://localhost:8080/"
        },
        "id": "taboyGD1KhR4",
        "outputId": "c6626147-0337-4942-cae8-c6e6561d3785"
      },
      "outputs": [
        {
          "output_type": "execute_result",
          "data": {
            "text/plain": [
              "AIMessage(content='', additional_kwargs={'function_call': {'name': 'add', 'arguments': '{\"y\": 10.0, \"x\": 10.0}'}}, response_metadata={'prompt_feedback': {'block_reason': 0, 'safety_ratings': []}, 'finish_reason': 'STOP', 'safety_ratings': []}, id='run--49f041b2-9355-46de-a47c-d0b7224aa69a-0', tool_calls=[{'name': 'add', 'args': {'y': 10.0, 'x': 10.0}, 'id': '5f1e6b77-a214-4e3b-b4f9-88193a7cbdd4', 'type': 'tool_call'}], usage_metadata={'input_tokens': 317, 'output_tokens': 20, 'total_tokens': 393, 'input_token_details': {'cache_read': 0}})"
            ]
          },
          "metadata": {},
          "execution_count": 19
        }
      ],
      "source": [
        "from langchain_core.messages import ToolMessage\n",
        "\n",
        "tool_exec = ToolMessage(\n",
        "    content=f\"The {tool_call.tool_calls[0]['name']} tool returned {tool_exec_content}\",\n",
        "    tool_call_id=tool_call.tool_calls[0][\"id\"]\n",
        ")\n",
        "\n",
        "out = agent.invoke({\n",
        "    \"input\": \"What is 10 + 10\",\n",
        "    \"chat_history\": [],\n",
        "    \"agent_scratchpad\": [tool_call, tool_exec]\n",
        "})\n",
        "out"
      ]
    },
    {
      "cell_type": "markdown",
      "metadata": {
        "id": "m5Skkn6MKhR4"
      },
      "source": [
        "Despite having the answer in our `agent_scratchpad`, the LLM still tries to use the tool\n",
        "_again_. This behaviour happens because we bonded the tools to the LLM with\n",
        "`tool_choice=\"any\"`. When we set `tool_choice` to `\"any\"` or `\"required\"`, we tell the\n",
        "LLM that it _MUST_ use a tool, i.e., it cannot provide a final answer.\n",
        "\n",
        "There's two options to fix this:\n",
        "\n",
        "1. Set `tool_choice=\"auto\"` to tell the LLM that it can choose to use a tool or provide\n",
        "a final answer.\n",
        "\n",
        "2. Create a `final_answer` tool - we'll explain this shortly.\n",
        "\n",
        "First, let's try option **1**:"
      ]
    },
    {
      "cell_type": "code",
      "execution_count": 20,
      "metadata": {
        "id": "RzxJcsTiKhR5"
      },
      "outputs": [],
      "source": [
        "agent: RunnableSerializable = (\n",
        "    {\n",
        "        \"input\": lambda x: x[\"input\"],\n",
        "        \"chat_history\": lambda x: x[\"chat_history\"],\n",
        "        \"agent_scratchpad\": lambda x: x.get(\"agent_scratchpad\", [])\n",
        "    }\n",
        "    | prompt\n",
        "    | llm.bind_tools(tools, tool_choice=\"auto\")\n",
        ")"
      ]
    },
    {
      "cell_type": "markdown",
      "metadata": {
        "id": "ShUXAXN2KhR5"
      },
      "source": [
        "We'll start from the start again, so `agent_scratchpad` is empty:"
      ]
    },
    {
      "cell_type": "code",
      "execution_count": 21,
      "metadata": {
        "colab": {
          "base_uri": "https://localhost:8080/"
        },
        "id": "lEa-xx4oKhR5",
        "outputId": "5772cf1e-ffe9-49df-c646-3862b80ce43a"
      },
      "outputs": [
        {
          "output_type": "execute_result",
          "data": {
            "text/plain": [
              "AIMessage(content='', additional_kwargs={'function_call': {'name': 'add', 'arguments': '{\"y\": 10.0, \"x\": 10.0}'}}, response_metadata={'prompt_feedback': {'block_reason': 0, 'safety_ratings': []}, 'finish_reason': 'STOP', 'safety_ratings': []}, id='run--25ceee21-7a02-4232-a357-06c27153a404-0', tool_calls=[{'name': 'add', 'args': {'y': 10.0, 'x': 10.0}, 'id': '4492f541-0e5f-4302-a294-5fab405c4d11', 'type': 'tool_call'}], usage_metadata={'input_tokens': 276, 'output_tokens': 20, 'total_tokens': 361, 'input_token_details': {'cache_read': 0}})"
            ]
          },
          "metadata": {},
          "execution_count": 21
        }
      ],
      "source": [
        "tool_call = agent.invoke({\"input\": \"What is 10 + 10\", \"chat_history\": []})\n",
        "tool_call"
      ]
    },
    {
      "cell_type": "markdown",
      "metadata": {
        "id": "yKg7tre5KhR5"
      },
      "source": [
        "Now we execute the tool and pass it's output into the `agent_scratchpad` placeholder:"
      ]
    },
    {
      "cell_type": "code",
      "execution_count": 22,
      "metadata": {
        "colab": {
          "base_uri": "https://localhost:8080/"
        },
        "id": "Sby4NpDqKhR5",
        "outputId": "2b95573a-c858-496c-e5bb-4467e711700c"
      },
      "outputs": [
        {
          "output_type": "execute_result",
          "data": {
            "text/plain": [
              "AIMessage(content='The answer is 20.0.', additional_kwargs={}, response_metadata={'prompt_feedback': {'block_reason': 0, 'safety_ratings': []}, 'finish_reason': 'STOP', 'safety_ratings': []}, id='run--6e1d0f2e-c46b-4af7-a553-2f249767429a-0', usage_metadata={'input_tokens': 317, 'output_tokens': 9, 'total_tokens': 369, 'input_token_details': {'cache_read': 0}})"
            ]
          },
          "metadata": {},
          "execution_count": 22
        }
      ],
      "source": [
        "tool_output = name2tool[tool_call.tool_calls[0][\"name\"]](\n",
        "    **tool_call.tool_calls[0][\"args\"]\n",
        ")\n",
        "\n",
        "tool_exec = ToolMessage(\n",
        "    content=f\"The {tool_call.tool_calls[0]['name']} tool returned {tool_output}\",\n",
        "    tool_call_id=tool_call.tool_calls[0][\"id\"]\n",
        ")\n",
        "\n",
        "out = agent.invoke({\n",
        "    \"input\": \"What is 10 + 10\",\n",
        "    \"chat_history\": [],\n",
        "    \"agent_scratchpad\": [tool_call, tool_exec]\n",
        "})\n",
        "out"
      ]
    },
    {
      "cell_type": "markdown",
      "metadata": {
        "id": "UBfI6-lTKhR5"
      },
      "source": [
        "We now have the final answer in the `content` field! This method is perfectly\n",
        "functional; however, we recommend option **2** as it provides more control over the\n",
        "agent's output.\n",
        "\n",
        "There are several reasons that option **2** can provide more control, those are:\n",
        "\n",
        "* It removes the possibility of an agent using the direct `content` field when it is not\n",
        "appropriate; for example, some LLMs (particularly smaller ones) may try to use the\n",
        "`content` field when using a tool.\n",
        "\n",
        "* We can enforce a specific structured output in our answers. Structured outputs are\n",
        "handy when we require particular fields for downstream code or multi-part answers. For\n",
        "example, a RAG agent may return a natural language answer and a list of sources used to\n",
        "generate that answer.\n",
        "\n",
        "To implement option **2**, we must create a `final_answer` tool. We will add a\n",
        "`tools_used` field to give our output some structure—in a real-world use case, we\n",
        "probably wouldn't want to generate this field, but it's useful for our example here."
      ]
    },
    {
      "cell_type": "code",
      "execution_count": 23,
      "metadata": {
        "id": "4oE3gE3HKhR5"
      },
      "outputs": [],
      "source": [
        "@tool\n",
        "def final_answer(answer: str, tools_used: list[str]) -> str:\n",
        "    \"\"\"Use this tool to provide a final answer to the user.\n",
        "    The answer should be in natural language as this will be provided\n",
        "    to the user directly. The tools_used must include a list of tool\n",
        "    names that were used within the `scratchpad`.\n",
        "    \"\"\"\n",
        "    return {\"answer\": answer, \"tools_used\": tools_used}"
      ]
    },
    {
      "cell_type": "markdown",
      "metadata": {
        "id": "AasMBkNjKhR5"
      },
      "source": [
        "Our `final_answer` tool _doesn't_ necessarily need to do anything; in this example,\n",
        "we're using it purely to structure our final response. We can now add this tool to our\n",
        "agent:"
      ]
    },
    {
      "cell_type": "code",
      "execution_count": 24,
      "metadata": {
        "id": "IiFdJBeyKhR5"
      },
      "outputs": [],
      "source": [
        "tools = [final_answer, add, subtract, multiply, exponentiate]\n",
        "\n",
        "# we need to update our name2tool mapping too\n",
        "name2tool = {tool.name: tool.func for tool in tools}\n",
        "\n",
        "agent: RunnableSerializable = (\n",
        "    {\n",
        "        \"input\": lambda x: x[\"input\"],\n",
        "        \"chat_history\": lambda x: x[\"chat_history\"],\n",
        "        \"agent_scratchpad\": lambda x: x.get(\"agent_scratchpad\", [])\n",
        "    }\n",
        "    | prompt\n",
        "    | llm.bind_tools(tools, tool_choice=\"any\")  # we're forcing tool use again\n",
        ")"
      ]
    },
    {
      "cell_type": "markdown",
      "metadata": {
        "id": "EEp3rk5XKhR5"
      },
      "source": [
        "Now we invoke:"
      ]
    },
    {
      "cell_type": "code",
      "execution_count": 25,
      "metadata": {
        "colab": {
          "base_uri": "https://localhost:8080/"
        },
        "id": "6W0zZLKdKhR5",
        "outputId": "1445c267-d9c6-48f8-92ef-5a997e7e6b06"
      },
      "outputs": [
        {
          "output_type": "execute_result",
          "data": {
            "text/plain": [
              "[{'name': 'add',\n",
              "  'args': {'y': 10.0, 'x': 10.0},\n",
              "  'id': 'e532a622-0643-4416-8932-5f51a423876f',\n",
              "  'type': 'tool_call'}]"
            ]
          },
          "metadata": {},
          "execution_count": 25
        }
      ],
      "source": [
        "tool_call = agent.invoke({\"input\": \"What is 10 + 10\", \"chat_history\": []})\n",
        "tool_call.tool_calls"
      ]
    },
    {
      "cell_type": "markdown",
      "metadata": {
        "id": "OPAhRRExKhR5"
      },
      "source": [
        "We execute the tool and provide it's output to the agent again:"
      ]
    },
    {
      "cell_type": "code",
      "execution_count": 26,
      "metadata": {
        "colab": {
          "base_uri": "https://localhost:8080/"
        },
        "id": "ATQh7UevKhR5",
        "outputId": "30ad50a1-b116-4477-c0b2-5681fb52ccb7"
      },
      "outputs": [
        {
          "output_type": "execute_result",
          "data": {
            "text/plain": [
              "AIMessage(content='', additional_kwargs={'function_call': {'name': 'final_answer', 'arguments': '{\"answer\": \"10 + 10 is 20.0\", \"tools_used\": [\"add\"]}'}}, response_metadata={'prompt_feedback': {'block_reason': 0, 'safety_ratings': []}, 'finish_reason': 'STOP', 'safety_ratings': []}, id='run--c7a3a365-8d11-4d70-8cb0-485746e1c17c-0', tool_calls=[{'name': 'final_answer', 'args': {'answer': '10 + 10 is 20.0', 'tools_used': ['add']}, 'id': '08f29dee-e378-4255-b6fb-2d7133c84e3f', 'type': 'tool_call'}], usage_metadata={'input_tokens': 421, 'output_tokens': 33, 'total_tokens': 547, 'input_token_details': {'cache_read': 0}})"
            ]
          },
          "metadata": {},
          "execution_count": 26
        }
      ],
      "source": [
        "tool_out = name2tool[tool_call.tool_calls[0][\"name\"]](\n",
        "    **tool_call.tool_calls[0][\"args\"]\n",
        ")\n",
        "\n",
        "tool_exec = ToolMessage(\n",
        "    content=f\"The {tool_call.tool_calls[0]['name']} tool returned {tool_out}\",\n",
        "    tool_call_id=tool_call.tool_calls[0][\"id\"]\n",
        ")\n",
        "\n",
        "out = agent.invoke({\n",
        "    \"input\": \"What is 10 + 10\",\n",
        "    \"chat_history\": [],\n",
        "    \"agent_scratchpad\": [tool_call, tool_exec]\n",
        "})\n",
        "out"
      ]
    },
    {
      "cell_type": "markdown",
      "metadata": {
        "id": "LQSd_50BKhR6"
      },
      "source": [
        "We see that `content` remains empty because we force tool use. But we now have the\n",
        "`final_answer` tool, which the agent executor passes via the `tool_calls` field:"
      ]
    },
    {
      "cell_type": "code",
      "execution_count": 27,
      "metadata": {
        "colab": {
          "base_uri": "https://localhost:8080/"
        },
        "id": "UwufhIudKhR6",
        "outputId": "d0bdea8b-6a05-4fff-dda5-a5bdc0480b6b"
      },
      "outputs": [
        {
          "output_type": "execute_result",
          "data": {
            "text/plain": [
              "[{'name': 'final_answer',\n",
              "  'args': {'answer': '10 + 10 is 20.0', 'tools_used': ['add']},\n",
              "  'id': '08f29dee-e378-4255-b6fb-2d7133c84e3f',\n",
              "  'type': 'tool_call'}]"
            ]
          },
          "metadata": {},
          "execution_count": 27
        }
      ],
      "source": [
        "out.tool_calls"
      ]
    },
    {
      "cell_type": "markdown",
      "metadata": {
        "id": "tB02HOTZKhR6"
      },
      "source": [
        "Because we see the `final_answer` tool here, we don't pass this back into our agent, and\n",
        "instead, this tells us to stop execution and pass the `args` output onto our downstream\n",
        "process or user directly:"
      ]
    },
    {
      "cell_type": "code",
      "execution_count": 28,
      "metadata": {
        "colab": {
          "base_uri": "https://localhost:8080/"
        },
        "id": "cQYeqO7fKhR6",
        "outputId": "29bf3932-9e2c-467d-8a9d-0c867fdbe944"
      },
      "outputs": [
        {
          "output_type": "execute_result",
          "data": {
            "text/plain": [
              "{'answer': '10 + 10 is 20.0', 'tools_used': ['add']}"
            ]
          },
          "metadata": {},
          "execution_count": 28
        }
      ],
      "source": [
        "out.tool_calls[0][\"args\"]"
      ]
    },
    {
      "cell_type": "markdown",
      "metadata": {
        "id": "qG4WMRU0KhR6"
      },
      "source": [
        "### Building a Custom Agent Execution Loop"
      ]
    },
    {
      "cell_type": "markdown",
      "metadata": {
        "id": "KPMQv0zkKhR6"
      },
      "source": [
        "We've worked through each step of our agent code, but it doesn't run without us running\n",
        "every step. We must write a class to handle all the logic we just worked through."
      ]
    },
    {
      "cell_type": "code",
      "execution_count": 29,
      "metadata": {
        "id": "cUNR2aDaKhR6"
      },
      "outputs": [],
      "source": [
        "from langchain_core.messages import BaseMessage, HumanMessage, AIMessage\n",
        "\n",
        "\n",
        "class CustomAgentExecutor:\n",
        "    chat_history: list[BaseMessage]\n",
        "\n",
        "    def __init__(self, max_iterations: int = 3):\n",
        "        self.chat_history = []\n",
        "        self.max_iterations = max_iterations\n",
        "        self.agent: RunnableSerializable = (\n",
        "            {\n",
        "                \"input\": lambda x: x[\"input\"],\n",
        "                \"chat_history\": lambda x: x[\"chat_history\"],\n",
        "                \"agent_scratchpad\": lambda x: x.get(\"agent_scratchpad\", [])\n",
        "            }\n",
        "            | prompt\n",
        "            | llm.bind_tools(tools, tool_choice=\"any\")  # we're forcing tool use again\n",
        "        )\n",
        "\n",
        "    def invoke(self, input: str) -> dict:\n",
        "        # invoke the agent but we do this iteratively in a loop until\n",
        "        # reaching a final answer\n",
        "        count = 0\n",
        "        agent_scratchpad = []\n",
        "        while count < self.max_iterations:\n",
        "            # invoke a step for the agent to generate a tool call\n",
        "            tool_call = self.agent.invoke({\n",
        "                \"input\": input,\n",
        "                \"chat_history\": self.chat_history,\n",
        "                \"agent_scratchpad\": agent_scratchpad\n",
        "            })\n",
        "            # add initial tool call to scratchpad\n",
        "            agent_scratchpad.append(tool_call)\n",
        "            # otherwise we execute the tool and add it's output to the agent scratchpad\n",
        "            tool_name = tool_call.tool_calls[0][\"name\"]\n",
        "            tool_args = tool_call.tool_calls[0][\"args\"]\n",
        "            tool_call_id = tool_call.tool_calls[0][\"id\"]\n",
        "            tool_out = name2tool[tool_name](**tool_args)\n",
        "            # add the tool output to the agent scratchpad\n",
        "            tool_exec = ToolMessage(\n",
        "                content=f\"{tool_out}\",\n",
        "                tool_call_id=tool_call_id\n",
        "            )\n",
        "            agent_scratchpad.append(tool_exec)\n",
        "            # add a print so we can see intermediate steps\n",
        "            print(f\"{count}: {tool_name}({tool_args})\")\n",
        "            count += 1\n",
        "            # if the tool call is the final answer tool, we stop\n",
        "            if tool_name == \"final_answer\":\n",
        "                break\n",
        "        # add the final output to the chat history\n",
        "        final_answer = tool_out[\"answer\"]\n",
        "        self.chat_history.extend([\n",
        "            HumanMessage(content=input),\n",
        "            AIMessage(content=final_answer)\n",
        "        ])\n",
        "        # return the final answer in dict form\n",
        "        return json.dumps(tool_out)"
      ]
    },
    {
      "cell_type": "markdown",
      "metadata": {
        "id": "GyaL_PRtKhR6"
      },
      "source": [
        "Now initialize the agent executor:"
      ]
    },
    {
      "cell_type": "code",
      "execution_count": 30,
      "metadata": {
        "id": "fopGp7hvKhR6"
      },
      "outputs": [],
      "source": [
        "agent_executor = CustomAgentExecutor()"
      ]
    },
    {
      "cell_type": "markdown",
      "metadata": {
        "id": "Qi8oX3lkKhR6"
      },
      "source": [
        "And test the `invoke` method:"
      ]
    },
    {
      "cell_type": "code",
      "execution_count": 31,
      "metadata": {
        "colab": {
          "base_uri": "https://localhost:8080/",
          "height": 70
        },
        "id": "E3iWRWyFKhR6",
        "outputId": "03b58562-7e02-4dc2-832a-d1f471caa1ce"
      },
      "outputs": [
        {
          "output_type": "stream",
          "name": "stdout",
          "text": [
            "0: add({'y': 10.0, 'x': 10.0})\n",
            "1: final_answer({'answer': '10 + 10 is 20.', 'tools_used': ['add']})\n"
          ]
        },
        {
          "output_type": "execute_result",
          "data": {
            "text/plain": [
              "'{\"answer\": \"10 + 10 is 20.\", \"tools_used\": [\"add\"]}'"
            ],
            "application/vnd.google.colaboratory.intrinsic+json": {
              "type": "string"
            }
          },
          "metadata": {},
          "execution_count": 31
        }
      ],
      "source": [
        "agent_executor.invoke(input=\"What is 10 + 10\")"
      ]
    },
    {
      "cell_type": "markdown",
      "metadata": {
        "id": "P1nIQpA2KhR6"
      },
      "source": [
        "We then get our answer and the tools that were used — all through our custom agent\n",
        "executor."
      ]
    }
  ],
  "metadata": {
    "colab": {
      "provenance": []
    },
    "kernelspec": {
      "display_name": ".venv",
      "language": "python",
      "name": "python3"
    },
    "language_info": {
      "codemirror_mode": {
        "name": "ipython",
        "version": 3
      },
      "file_extension": ".py",
      "mimetype": "text/x-python",
      "name": "python",
      "nbconvert_exporter": "python",
      "pygments_lexer": "ipython3",
      "version": "3.12.7"
    }
  },
  "nbformat": 4,
  "nbformat_minor": 0
}